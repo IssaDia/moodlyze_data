{
 "cells": [
  {
   "cell_type": "code",
   "execution_count": 1,
   "metadata": {},
   "outputs": [
    {
     "name": "stdout",
     "output_type": "stream",
     "text": [
      "Le fichier raw_tweets.csv est déjà présent dans /Users/issa/Desktop/moodlyze/data/raw\n"
     ]
    }
   ],
   "source": [
    "import os\n",
    "import shutil\n",
    "from kaggle.api.kaggle_api_extended import KaggleApi\n",
    "\n",
    "def retrieve_data_from_kaggle(kaggle_dataset_name, output_filename=\"raw_tweets.csv\"):\n",
    "    try:\n",
    "        # Chemin vers le dossier de téléchargement spécifique\n",
    "        download_path = os.path.join(os.path.expanduser(\"~\"), \"Desktop\", \"moodlyze\", \"data\", \"raw\")\n",
    "        \n",
    "        # Chemin complet vers le fichier téléchargé\n",
    "        output_filepath = os.path.join(download_path, output_filename)\n",
    "        \n",
    "        # Vérifie si le dataset existe déjà\n",
    "        if os.path.exists(output_filepath):\n",
    "            print(f\"Le fichier {output_filename} est déjà présent dans {download_path}\")\n",
    "            return\n",
    "        \n",
    "        api = KaggleApi()\n",
    "        api.authenticate()\n",
    "        \n",
    "        # Crée le dossier de téléchargement s'il n'existe pas\n",
    "        if not os.path.exists(download_path):\n",
    "            os.makedirs(download_path)\n",
    "        \n",
    "        # Télécharge et décompresse le dataset\n",
    "        api.dataset_download_files(kaggle_dataset_name, path=download_path, unzip=True)\n",
    "        \n",
    "        # Trouve le fichier téléchargé\n",
    "        downloaded_files = [f for f in os.listdir(download_path) if f.endswith('.csv') and os.path.isfile(os.path.join(download_path, f))]\n",
    "        if not downloaded_files:\n",
    "            print(\"Aucun fichier CSV trouvé après le téléchargement.\")\n",
    "            return\n",
    "        \n",
    "        # Renomme le premier fichier CSV trouvé\n",
    "        downloaded_file = downloaded_files[0]\n",
    "        shutil.move(os.path.join(download_path, downloaded_file), output_filepath)\n",
    "        \n",
    "        print(f\"Dataset {kaggle_dataset_name} téléchargé et renommé en {output_filepath}\")\n",
    "        \n",
    "    except Exception as e:\n",
    "        print(f\"Une erreur est survenue lors du téléchargement du dataset {kaggle_dataset_name}: {e}\")\n",
    "\n",
    "if __name__ == \"__main__\":\n",
    "    retrieve_data_from_kaggle(\"kazanova/sentiment140\")\n"
   ]
  },
  {
   "cell_type": "code",
   "execution_count": null,
   "metadata": {},
   "outputs": [],
   "source": []
  },
  {
   "cell_type": "code",
   "execution_count": null,
   "metadata": {},
   "outputs": [],
   "source": []
  },
  {
   "cell_type": "code",
   "execution_count": null,
   "metadata": {},
   "outputs": [],
   "source": []
  }
 ],
 "metadata": {
  "kernelspec": {
   "display_name": "Python 3 (ipykernel)",
   "language": "python",
   "name": "python3"
  },
  "language_info": {
   "codemirror_mode": {
    "name": "ipython",
    "version": 3
   },
   "file_extension": ".py",
   "mimetype": "text/x-python",
   "name": "python",
   "nbconvert_exporter": "python",
   "pygments_lexer": "ipython3",
   "version": "3.9.13"
  }
 },
 "nbformat": 4,
 "nbformat_minor": 4
}
