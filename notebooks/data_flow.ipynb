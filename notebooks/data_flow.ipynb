{
 "cells": [
  {
   "cell_type": "code",
   "execution_count": null,
   "metadata": {},
   "outputs": [],
   "source": [
    "import sys\n",
    "import os\n",
    "sys.path.append(os.path.expanduser(\"~/Desktop/moodlyze/data\"))"
   ]
  },
  {
   "cell_type": "code",
   "execution_count": null,
   "metadata": {},
   "outputs": [],
   "source": [
    "from pipeline.downloading import retrieve_data_from_kaggle\n",
    "from pipeline.cleaning import load_and_clean_data\n",
    "from pipeline.saving import connect_to_mongodb, insert_data_to_mongodb, preview_data"
   ]
  },
  {
   "cell_type": "code",
   "execution_count": null,
   "metadata": {},
   "outputs": [],
   "source": [
    "\n",
    "# Step 1: Download Dataset from Kaggle\n",
    "kaggle_dataset_name = \"crowdflower/twitter-airline-sentiment\"\n",
    "output_filename = \"raw_tweets.csv\"\n",
    "retrieve_data_from_kaggle(kaggle_dataset_name, output_filename, max_entries=100000)"
   ]
  },
  {
   "cell_type": "code",
   "execution_count": null,
   "metadata": {},
   "outputs": [],
   "source": [
    "# Step 2: Define paths and load data\n",
    "dataset_path = os.path.expanduser(\"~/Desktop/moodlyze/data/raw/raw_tweets.csv\")\n",
    "cleaned_dataset_path = os.path.expanduser(\"~/Desktop/moodlyze/data/processed/cleaned_tweets.csv\")\n",
    "\n",
    "# Load and clean the data\n",
    "df = load_and_clean_data(dataset_path, cleaned_dataset_path)\n"
   ]
  },
  {
   "cell_type": "code",
   "execution_count": null,
   "metadata": {},
   "outputs": [],
   "source": [
    "# Step 3: Connect to MongoDB and insert data\n",
    "db = connect_to_mongodb()\n",
    "data = df.to_dict(orient='records')\n",
    "print(df.columns)\n",
    "insert_data_to_mongodb(db, 'tweets',data, max_records = 100000)"
   ]
  },
  {
   "cell_type": "code",
   "execution_count": null,
   "metadata": {},
   "outputs": [],
   "source": [
    "\n",
    "# Step 4: Preview inserted data\n",
    "# preview_data(db, 'tweets')"
   ]
  }
 ],
 "metadata": {
  "kernelspec": {
   "display_name": ".venv",
   "language": "python",
   "name": "python3"
  },
  "language_info": {
   "codemirror_mode": {
    "name": "ipython",
    "version": 3
   },
   "file_extension": ".py",
   "mimetype": "text/x-python",
   "name": "python",
   "nbconvert_exporter": "python",
   "pygments_lexer": "ipython3",
   "version": "3.9.6"
  }
 },
 "nbformat": 4,
 "nbformat_minor": 4
}
